{
 "cells": [
  {
   "cell_type": "code",
   "execution_count": 6,
   "id": "ec61fa51-d8cb-481f-a2b9-d380482882d8",
   "metadata": {},
   "outputs": [],
   "source": [
    "import polars as pl\n",
    "from geopy.geocoders import Nominatim\n",
    "import time"
   ]
  },
  {
   "cell_type": "code",
   "execution_count": 2,
   "id": "7970e921-be0b-4a46-a306-f343306d3caf",
   "metadata": {},
   "outputs": [
    {
     "name": "stdout",
     "output_type": "stream",
     "text": [
      "Loaded 4854814 rows from nsw_property_data.csv\n"
     ]
    }
   ],
   "source": [
    "df = pl.read_csv(\"nsw_property_data.csv\")\n",
    "print(f\"Loaded {len(df)} rows from nsw_property_data.csv\")"
   ]
  },
  {
   "cell_type": "code",
   "execution_count": 3,
   "id": "83603a6e-44a8-4fb6-9d99-a267aa7f662a",
   "metadata": {},
   "outputs": [
    {
     "data": {
      "text/html": [
       "<div><style>\n",
       ".dataframe > thead > tr,\n",
       ".dataframe > tbody > tr {\n",
       "  text-align: right;\n",
       "  white-space: pre-wrap;\n",
       "}\n",
       "</style>\n",
       "<small>shape: (4_854_814, 17)</small><table border=\"1\" class=\"dataframe\"><thead><tr><th>property_id</th><th>download_date</th><th>council_name</th><th>purchase_price</th><th>address</th><th>post_code</th><th>property_type</th><th>strata_lot_number</th><th>property_name</th><th>area</th><th>area_type</th><th>contract_date</th><th>settlement_date</th><th>zoning</th><th>nature_of_property</th><th>primary_purpose</th><th>legal_description</th></tr><tr><td>i64</td><td>str</td><td>str</td><td>i64</td><td>str</td><td>i64</td><td>str</td><td>i64</td><td>str</td><td>f64</td><td>str</td><td>str</td><td>str</td><td>str</td><td>str</td><td>str</td><td>str</td></tr></thead><tbody><tr><td>1672682</td><td>&quot;2024-02-19&quot;</td><td>&quot;BYRON&quot;</td><td>1120000</td><td>&quot;129 MAFEKING RD, GOONENGERRY&quot;</td><td>2482</td><td>&quot;house&quot;</td><td>null</td><td>null</td><td>3.419</td><td>&quot;H&quot;</td><td>&quot;2024-01-19&quot;</td><td>&quot;2024-02-15&quot;</td><td>&quot;RU2&quot;</td><td>&quot;R&quot;</td><td>&quot;RESIDENCE&quot;</td><td>&quot;1/607703&quot;</td></tr><tr><td>1665192</td><td>&quot;2024-02-19&quot;</td><td>&quot;BYRON&quot;</td><td>2800000</td><td>&quot;38 AVOCADO CRES, EWINGSDALE&quot;</td><td>2481</td><td>&quot;house&quot;</td><td>null</td><td>null</td><td>3420.0</td><td>&quot;M&quot;</td><td>&quot;2023-11-10&quot;</td><td>&quot;2024-02-15&quot;</td><td>&quot;R5&quot;</td><td>&quot;R&quot;</td><td>&quot;RESIDENCE&quot;</td><td>&quot;25/806200&quot;</td></tr><tr><td>1676023</td><td>&quot;2024-02-19&quot;</td><td>&quot;BYRON&quot;</td><td>1500000</td><td>&quot;20 ROYAL AVE, SOUTH GOLDEN BEA…</td><td>2483</td><td>&quot;house&quot;</td><td>null</td><td>null</td><td>727.2</td><td>&quot;M&quot;</td><td>&quot;2023-11-17&quot;</td><td>&quot;2024-02-09&quot;</td><td>&quot;R2&quot;</td><td>&quot;R&quot;</td><td>&quot;RESIDENCE&quot;</td><td>&quot;213/31166&quot;</td></tr><tr><td>1670957</td><td>&quot;2024-02-19&quot;</td><td>&quot;BYRON&quot;</td><td>985000</td><td>&quot;2 INDERWONG AVE, OCEAN SHORES&quot;</td><td>2483</td><td>&quot;house&quot;</td><td>null</td><td>null</td><td>992.7</td><td>&quot;M&quot;</td><td>&quot;2023-09-27&quot;</td><td>&quot;2024-02-12&quot;</td><td>&quot;R2&quot;</td><td>&quot;R&quot;</td><td>&quot;RESIDENCE&quot;</td><td>&quot;1101/241074&quot;</td></tr><tr><td>1673846</td><td>&quot;2024-02-19&quot;</td><td>&quot;BYRON&quot;</td><td>720000</td><td>&quot;52 NAROOMA DR, OCEAN SHORES&quot;</td><td>2483</td><td>&quot;house&quot;</td><td>null</td><td>null</td><td>771.4</td><td>&quot;M&quot;</td><td>&quot;2024-02-06&quot;</td><td>&quot;2024-02-09&quot;</td><td>&quot;R2&quot;</td><td>&quot;R&quot;</td><td>&quot;RESIDENCE&quot;</td><td>&quot;337/238455&quot;</td></tr><tr><td>&hellip;</td><td>&hellip;</td><td>&hellip;</td><td>&hellip;</td><td>&hellip;</td><td>&hellip;</td><td>&hellip;</td><td>&hellip;</td><td>&hellip;</td><td>&hellip;</td><td>&hellip;</td><td>&hellip;</td><td>&hellip;</td><td>&hellip;</td><td>&hellip;</td><td>&hellip;</td><td>&hellip;</td></tr><tr><td>3137396</td><td>&quot;2004-12-16&quot;</td><td>&quot;WOLLONGONG&quot;</td><td>190000</td><td>&quot;1/186 BALGOWNIE RD, BALGOWNIE&quot;</td><td>2519</td><td>&quot;unit&quot;</td><td>1</td><td>null</td><td>null</td><td>null</td><td>&quot;2004-05-27&quot;</td><td>&quot;2004-11-29&quot;</td><td>null</td><td>&quot;R&quot;</td><td>&quot;RESIDENCE&quot;</td><td>&quot;1/SP73961&quot;</td></tr><tr><td>3137396</td><td>&quot;2004-12-16&quot;</td><td>&quot;WOLLONGONG&quot;</td><td>190000</td><td>&quot;2/186 BALGOWNIE RD, BALGOWNIE&quot;</td><td>2519</td><td>&quot;unit&quot;</td><td>2</td><td>null</td><td>null</td><td>null</td><td>&quot;2004-05-27&quot;</td><td>&quot;2004-11-29&quot;</td><td>null</td><td>&quot;R&quot;</td><td>&quot;RESIDENCE&quot;</td><td>&quot;2/SP73961&quot;</td></tr><tr><td>3138813</td><td>&quot;2004-12-16&quot;</td><td>&quot;WOLLONGONG&quot;</td><td>380000</td><td>&quot; HAWTHORN ST, TARRAWANNA&quot;</td><td>2518</td><td>&quot;house&quot;</td><td>null</td><td>null</td><td>21.17</td><td>&quot;H&quot;</td><td>&quot;2003-12-15&quot;</td><td>&quot;2004-06-25&quot;</td><td>null</td><td>&quot;V&quot;</td><td>&quot;VACANT LAND&quot;</td><td>&quot;2/793302&quot;</td></tr><tr><td>3138824</td><td>&quot;2004-12-16&quot;</td><td>&quot;WOLLONGONG&quot;</td><td>5500</td><td>&quot; HOBART ST, BULLI&quot;</td><td>2516</td><td>&quot;house&quot;</td><td>null</td><td>null</td><td>43.36</td><td>&quot;H&quot;</td><td>&quot;2003-06-10&quot;</td><td>&quot;2003-06-10&quot;</td><td>null</td><td>&quot;V&quot;</td><td>&quot;VACANT LAND&quot;</td><td>&quot;5/255282&quot;</td></tr><tr><td>3140338</td><td>&quot;2004-12-16&quot;</td><td>&quot;WOLLONGONG&quot;</td><td>1250000</td><td>&quot;603 LAWRENCE HARGRAVE DR, WOMB…</td><td>2515</td><td>&quot;house&quot;</td><td>null</td><td>null</td><td>1050.0</td><td>&quot;M&quot;</td><td>&quot;2004-07-03&quot;</td><td>&quot;2004-08-20&quot;</td><td>null</td><td>&quot;R&quot;</td><td>&quot;RESIDENCE&quot;</td><td>&quot;16/5998&quot;</td></tr></tbody></table></div>"
      ],
      "text/plain": [
       "shape: (4_854_814, 17)\n",
       "┌────────────┬────────────┬───────────┬───────────┬───┬────────┬───────────┬───────────┬───────────┐\n",
       "│ property_i ┆ download_d ┆ council_n ┆ purchase_ ┆ … ┆ zoning ┆ nature_of ┆ primary_p ┆ legal_des │\n",
       "│ d          ┆ ate        ┆ ame       ┆ price     ┆   ┆ ---    ┆ _property ┆ urpose    ┆ cription  │\n",
       "│ ---        ┆ ---        ┆ ---       ┆ ---       ┆   ┆ str    ┆ ---       ┆ ---       ┆ ---       │\n",
       "│ i64        ┆ str        ┆ str       ┆ i64       ┆   ┆        ┆ str       ┆ str       ┆ str       │\n",
       "╞════════════╪════════════╪═══════════╪═══════════╪═══╪════════╪═══════════╪═══════════╪═══════════╡\n",
       "│ 1672682    ┆ 2024-02-19 ┆ BYRON     ┆ 1120000   ┆ … ┆ RU2    ┆ R         ┆ RESIDENCE ┆ 1/607703  │\n",
       "│ 1665192    ┆ 2024-02-19 ┆ BYRON     ┆ 2800000   ┆ … ┆ R5     ┆ R         ┆ RESIDENCE ┆ 25/806200 │\n",
       "│ 1676023    ┆ 2024-02-19 ┆ BYRON     ┆ 1500000   ┆ … ┆ R2     ┆ R         ┆ RESIDENCE ┆ 213/31166 │\n",
       "│ 1670957    ┆ 2024-02-19 ┆ BYRON     ┆ 985000    ┆ … ┆ R2     ┆ R         ┆ RESIDENCE ┆ 1101/2410 │\n",
       "│            ┆            ┆           ┆           ┆   ┆        ┆           ┆           ┆ 74        │\n",
       "│ 1673846    ┆ 2024-02-19 ┆ BYRON     ┆ 720000    ┆ … ┆ R2     ┆ R         ┆ RESIDENCE ┆ 337/23845 │\n",
       "│            ┆            ┆           ┆           ┆   ┆        ┆           ┆           ┆ 5         │\n",
       "│ …          ┆ …          ┆ …         ┆ …         ┆ … ┆ …      ┆ …         ┆ …         ┆ …         │\n",
       "│ 3137396    ┆ 2004-12-16 ┆ WOLLONGON ┆ 190000    ┆ … ┆ null   ┆ R         ┆ RESIDENCE ┆ 1/SP73961 │\n",
       "│            ┆            ┆ G         ┆           ┆   ┆        ┆           ┆           ┆           │\n",
       "│ 3137396    ┆ 2004-12-16 ┆ WOLLONGON ┆ 190000    ┆ … ┆ null   ┆ R         ┆ RESIDENCE ┆ 2/SP73961 │\n",
       "│            ┆            ┆ G         ┆           ┆   ┆        ┆           ┆           ┆           │\n",
       "│ 3138813    ┆ 2004-12-16 ┆ WOLLONGON ┆ 380000    ┆ … ┆ null   ┆ V         ┆ VACANT    ┆ 2/793302  │\n",
       "│            ┆            ┆ G         ┆           ┆   ┆        ┆           ┆ LAND      ┆           │\n",
       "│ 3138824    ┆ 2004-12-16 ┆ WOLLONGON ┆ 5500      ┆ … ┆ null   ┆ V         ┆ VACANT    ┆ 5/255282  │\n",
       "│            ┆            ┆ G         ┆           ┆   ┆        ┆           ┆ LAND      ┆           │\n",
       "│ 3140338    ┆ 2004-12-16 ┆ WOLLONGON ┆ 1250000   ┆ … ┆ null   ┆ R         ┆ RESIDENCE ┆ 16/5998   │\n",
       "│            ┆            ┆ G         ┆           ┆   ┆        ┆           ┆           ┆           │\n",
       "└────────────┴────────────┴───────────┴───────────┴───┴────────┴───────────┴───────────┴───────────┘"
      ]
     },
     "execution_count": 3,
     "metadata": {},
     "output_type": "execute_result"
    }
   ],
   "source": [
    "df"
   ]
  },
  {
   "cell_type": "code",
   "execution_count": 4,
   "id": "7ee9dd5e-7ac3-4207-9342-56e7a62b5597",
   "metadata": {},
   "outputs": [
    {
     "name": "stdout",
     "output_type": "stream",
     "text": [
      "Unique council names:\n",
      "shape: (220, 1)\n",
      "┌───────────────┐\n",
      "│ council_name  │\n",
      "│ ---           │\n",
      "│ str           │\n",
      "╞═══════════════╡\n",
      "│ 003           │\n",
      "│ 011           │\n",
      "│ 013           │\n",
      "│ 014           │\n",
      "│ 020           │\n",
      "│ …             │\n",
      "│ WINGECARRIBEE │\n",
      "│ WOLLONDILLY   │\n",
      "│ WOLLONGONG    │\n",
      "│ WOOLLAHRA     │\n",
      "│ YASS VALLEY   │\n",
      "└───────────────┘\n"
     ]
    }
   ],
   "source": [
    "unique_councils = df.select(\"council_name\").unique().sort(\"council_name\")\n",
    "print(\"Unique council names:\")\n",
    "print(unique_councils)"
   ]
  },
  {
   "cell_type": "code",
   "execution_count": 5,
   "id": "104c92a7-a4b5-43f6-9f34-bf0a562a9ed7",
   "metadata": {},
   "outputs": [
    {
     "data": {
      "text/html": [
       "<div><style>\n",
       ".dataframe > thead > tr,\n",
       ".dataframe > tbody > tr {\n",
       "  text-align: right;\n",
       "  white-space: pre-wrap;\n",
       "}\n",
       "</style>\n",
       "<small>shape: (5, 17)</small><table border=\"1\" class=\"dataframe\"><thead><tr><th>property_id</th><th>download_date</th><th>council_name</th><th>purchase_price</th><th>address</th><th>post_code</th><th>property_type</th><th>strata_lot_number</th><th>property_name</th><th>area</th><th>area_type</th><th>contract_date</th><th>settlement_date</th><th>zoning</th><th>nature_of_property</th><th>primary_purpose</th><th>legal_description</th></tr><tr><td>i64</td><td>str</td><td>str</td><td>i64</td><td>str</td><td>i64</td><td>str</td><td>i64</td><td>str</td><td>f64</td><td>str</td><td>str</td><td>str</td><td>str</td><td>str</td><td>str</td><td>str</td></tr></thead><tbody><tr><td>1672682</td><td>&quot;2024-02-19&quot;</td><td>&quot;BYRON&quot;</td><td>1120000</td><td>&quot;129 MAFEKING RD, GOONENGERRY&quot;</td><td>2482</td><td>&quot;house&quot;</td><td>null</td><td>null</td><td>3.419</td><td>&quot;H&quot;</td><td>&quot;2024-01-19&quot;</td><td>&quot;2024-02-15&quot;</td><td>&quot;RU2&quot;</td><td>&quot;R&quot;</td><td>&quot;RESIDENCE&quot;</td><td>&quot;1/607703&quot;</td></tr><tr><td>1665192</td><td>&quot;2024-02-19&quot;</td><td>&quot;BYRON&quot;</td><td>2800000</td><td>&quot;38 AVOCADO CRES, EWINGSDALE&quot;</td><td>2481</td><td>&quot;house&quot;</td><td>null</td><td>null</td><td>3420.0</td><td>&quot;M&quot;</td><td>&quot;2023-11-10&quot;</td><td>&quot;2024-02-15&quot;</td><td>&quot;R5&quot;</td><td>&quot;R&quot;</td><td>&quot;RESIDENCE&quot;</td><td>&quot;25/806200&quot;</td></tr><tr><td>1676023</td><td>&quot;2024-02-19&quot;</td><td>&quot;BYRON&quot;</td><td>1500000</td><td>&quot;20 ROYAL AVE, SOUTH GOLDEN BEA…</td><td>2483</td><td>&quot;house&quot;</td><td>null</td><td>null</td><td>727.2</td><td>&quot;M&quot;</td><td>&quot;2023-11-17&quot;</td><td>&quot;2024-02-09&quot;</td><td>&quot;R2&quot;</td><td>&quot;R&quot;</td><td>&quot;RESIDENCE&quot;</td><td>&quot;213/31166&quot;</td></tr><tr><td>1670957</td><td>&quot;2024-02-19&quot;</td><td>&quot;BYRON&quot;</td><td>985000</td><td>&quot;2 INDERWONG AVE, OCEAN SHORES&quot;</td><td>2483</td><td>&quot;house&quot;</td><td>null</td><td>null</td><td>992.7</td><td>&quot;M&quot;</td><td>&quot;2023-09-27&quot;</td><td>&quot;2024-02-12&quot;</td><td>&quot;R2&quot;</td><td>&quot;R&quot;</td><td>&quot;RESIDENCE&quot;</td><td>&quot;1101/241074&quot;</td></tr><tr><td>1673846</td><td>&quot;2024-02-19&quot;</td><td>&quot;BYRON&quot;</td><td>720000</td><td>&quot;52 NAROOMA DR, OCEAN SHORES&quot;</td><td>2483</td><td>&quot;house&quot;</td><td>null</td><td>null</td><td>771.4</td><td>&quot;M&quot;</td><td>&quot;2024-02-06&quot;</td><td>&quot;2024-02-09&quot;</td><td>&quot;R2&quot;</td><td>&quot;R&quot;</td><td>&quot;RESIDENCE&quot;</td><td>&quot;337/238455&quot;</td></tr></tbody></table></div>"
      ],
      "text/plain": [
       "shape: (5, 17)\n",
       "┌────────────┬────────────┬───────────┬───────────┬───┬────────┬───────────┬───────────┬───────────┐\n",
       "│ property_i ┆ download_d ┆ council_n ┆ purchase_ ┆ … ┆ zoning ┆ nature_of ┆ primary_p ┆ legal_des │\n",
       "│ d          ┆ ate        ┆ ame       ┆ price     ┆   ┆ ---    ┆ _property ┆ urpose    ┆ cription  │\n",
       "│ ---        ┆ ---        ┆ ---       ┆ ---       ┆   ┆ str    ┆ ---       ┆ ---       ┆ ---       │\n",
       "│ i64        ┆ str        ┆ str       ┆ i64       ┆   ┆        ┆ str       ┆ str       ┆ str       │\n",
       "╞════════════╪════════════╪═══════════╪═══════════╪═══╪════════╪═══════════╪═══════════╪═══════════╡\n",
       "│ 1672682    ┆ 2024-02-19 ┆ BYRON     ┆ 1120000   ┆ … ┆ RU2    ┆ R         ┆ RESIDENCE ┆ 1/607703  │\n",
       "│ 1665192    ┆ 2024-02-19 ┆ BYRON     ┆ 2800000   ┆ … ┆ R5     ┆ R         ┆ RESIDENCE ┆ 25/806200 │\n",
       "│ 1676023    ┆ 2024-02-19 ┆ BYRON     ┆ 1500000   ┆ … ┆ R2     ┆ R         ┆ RESIDENCE ┆ 213/31166 │\n",
       "│ 1670957    ┆ 2024-02-19 ┆ BYRON     ┆ 985000    ┆ … ┆ R2     ┆ R         ┆ RESIDENCE ┆ 1101/2410 │\n",
       "│            ┆            ┆           ┆           ┆   ┆        ┆           ┆           ┆ 74        │\n",
       "│ 1673846    ┆ 2024-02-19 ┆ BYRON     ┆ 720000    ┆ … ┆ R2     ┆ R         ┆ RESIDENCE ┆ 337/23845 │\n",
       "│            ┆            ┆           ┆           ┆   ┆        ┆           ┆           ┆ 5         │\n",
       "└────────────┴────────────┴───────────┴───────────┴───┴────────┴───────────┴───────────┴───────────┘"
      ]
     },
     "execution_count": 5,
     "metadata": {},
     "output_type": "execute_result"
    }
   ],
   "source": [
    "df.head()"
   ]
  },
  {
   "cell_type": "code",
   "execution_count": 7,
   "id": "39043cce-79ce-4e89-a58b-858e04f2e5f9",
   "metadata": {},
   "outputs": [],
   "source": [
    "geolocator = Nominatim(user_agent=\"code_for_sydney\")"
   ]
  },
  {
   "cell_type": "code",
   "execution_count": 24,
   "id": "2c60a999-bdd6-474b-8d4e-7152090556e6",
   "metadata": {},
   "outputs": [],
   "source": [
    "def geocode_address(address):\n",
    "    try:\n",
    "        location = geolocator.geocode(address + \", Australia\")\n",
    "        if location:\n",
    "            return pl.Series([location.latitude, location.longitude])\n",
    "        return pl.Series([None, None])\n",
    "    except Exception as e:\n",
    "        print(f\"Error geocoding {address}: {e}\")\n",
    "        return pl.Series([None, None])\n",
    "    finally:\n",
    "        # Be nice to the API and avoid rate limiting\n",
    "        time.sleep(0.1)"
   ]
  },
  {
   "cell_type": "code",
   "execution_count": 25,
   "id": "63e2954a-3514-4e32-8c5e-f8e527c54abb",
   "metadata": {},
   "outputs": [
    {
     "data": {
      "text/html": [
       "<div><style>\n",
       ".dataframe > thead > tr,\n",
       ".dataframe > tbody > tr {\n",
       "  text-align: right;\n",
       "  white-space: pre-wrap;\n",
       "}\n",
       "</style>\n",
       "<small>shape: (2,)</small><table border=\"1\" class=\"dataframe\"><thead><tr><th></th></tr><tr><td>f64</td></tr></thead><tbody><tr><td>-33.798564</td></tr><tr><td>151.136847</td></tr></tbody></table></div>"
      ],
      "text/plain": [
       "shape: (2,)\n",
       "Series: '' [f64]\n",
       "[\n",
       "\t-33.798564\n",
       "\t151.136847\n",
       "]"
      ]
     },
     "execution_count": 25,
     "metadata": {},
     "output_type": "execute_result"
    }
   ],
   "source": [
    "geocode_address(\"162 Clarence street Sydney\")"
   ]
  },
  {
   "cell_type": "code",
   "execution_count": 20,
   "id": "10ebd7a4-c80e-4486-9c86-dd8ae654327b",
   "metadata": {},
   "outputs": [
    {
     "data": {
      "text/html": [
       "<div><style>\n",
       ".dataframe > thead > tr,\n",
       ".dataframe > tbody > tr {\n",
       "  text-align: right;\n",
       "  white-space: pre-wrap;\n",
       "}\n",
       "</style>\n",
       "<small>shape: (514, 17)</small><table border=\"1\" class=\"dataframe\"><thead><tr><th>property_id</th><th>download_date</th><th>council_name</th><th>purchase_price</th><th>address</th><th>post_code</th><th>property_type</th><th>strata_lot_number</th><th>property_name</th><th>area</th><th>area_type</th><th>contract_date</th><th>settlement_date</th><th>zoning</th><th>nature_of_property</th><th>primary_purpose</th><th>legal_description</th></tr><tr><td>i64</td><td>str</td><td>str</td><td>i64</td><td>str</td><td>i64</td><td>str</td><td>i64</td><td>str</td><td>f64</td><td>str</td><td>str</td><td>str</td><td>str</td><td>str</td><td>str</td><td>str</td></tr></thead><tbody><tr><td>3391609</td><td>&quot;2024-02-19&quot;</td><td>&quot;RYDE&quot;</td><td>1375000</td><td>&quot;3/6 KULGOA AVE, RYDE&quot;</td><td>2112</td><td>&quot;unit&quot;</td><td>3</td><td>null</td><td>null</td><td>null</td><td>&quot;2023-12-20&quot;</td><td>&quot;2024-02-14&quot;</td><td>null</td><td>&quot;R&quot;</td><td>&quot;RESIDENCE&quot;</td><td>&quot;3/SP80806&quot;</td></tr><tr><td>4170021</td><td>&quot;2024-02-19&quot;</td><td>&quot;RYDE&quot;</td><td>905000</td><td>&quot;1509/1 NETWORK PL, NORTH RYDE&quot;</td><td>2113</td><td>&quot;unit&quot;</td><td>218</td><td>null</td><td>null</td><td>null</td><td>&quot;2024-01-18&quot;</td><td>&quot;2024-02-15&quot;</td><td>null</td><td>&quot;R&quot;</td><td>&quot;RESIDENCE&quot;</td><td>&quot;218/SP98059&quot;</td></tr><tr><td>4170021</td><td>&quot;2024-02-19&quot;</td><td>&quot;RYDE&quot;</td><td>650000</td><td>&quot;1702/1 NETWORK PL, NORTH RYDE&quot;</td><td>2113</td><td>&quot;unit&quot;</td><td>239</td><td>null</td><td>null</td><td>null</td><td>&quot;2024-01-18&quot;</td><td>&quot;2024-02-15&quot;</td><td>null</td><td>&quot;R&quot;</td><td>&quot;RESIDENCE&quot;</td><td>&quot;239/SP98059&quot;</td></tr><tr><td>4165471</td><td>&quot;2024-02-19&quot;</td><td>&quot;RYDE&quot;</td><td>860000</td><td>&quot;1/260 VICTORIA RD, GLADESVILLE&quot;</td><td>2111</td><td>&quot;unit&quot;</td><td>27</td><td>null</td><td>169.0</td><td>&quot;M&quot;</td><td>&quot;2023-12-28&quot;</td><td>&quot;2024-02-09&quot;</td><td>null</td><td>&quot;R&quot;</td><td>&quot;RESIDENCE&quot;</td><td>&quot;27/SP90479&quot;</td></tr><tr><td>868823</td><td>&quot;2024-02-19&quot;</td><td>&quot;RYDE&quot;</td><td>2590000</td><td>&quot;27 A DARVALL RD, EASTWOOD&quot;</td><td>2122</td><td>&quot;house&quot;</td><td>null</td><td>null</td><td>626.0</td><td>&quot;M&quot;</td><td>&quot;2023-12-09&quot;</td><td>&quot;2024-02-12&quot;</td><td>&quot;R2&quot;</td><td>&quot;R&quot;</td><td>&quot;RESIDENCE&quot;</td><td>&quot;2/543885&quot;</td></tr><tr><td>&hellip;</td><td>&hellip;</td><td>&hellip;</td><td>&hellip;</td><td>&hellip;</td><td>&hellip;</td><td>&hellip;</td><td>&hellip;</td><td>&hellip;</td><td>&hellip;</td><td>&hellip;</td><td>&hellip;</td><td>&hellip;</td><td>&hellip;</td><td>&hellip;</td><td>&hellip;</td><td>&hellip;</td></tr><tr><td>3852882</td><td>&quot;2024-01-15&quot;</td><td>&quot;RYDE&quot;</td><td>923000</td><td>&quot;703/15 CHATHAM RD, WEST RYDE&quot;</td><td>2114</td><td>&quot;unit&quot;</td><td>137</td><td>null</td><td>110.0</td><td>&quot;M&quot;</td><td>&quot;2023-10-23&quot;</td><td>&quot;2024-01-08&quot;</td><td>null</td><td>&quot;R&quot;</td><td>&quot;RESIDENCE&quot;</td><td>&quot;137/SP90616&quot;</td></tr><tr><td>3956155</td><td>&quot;2024-01-15&quot;</td><td>&quot;RYDE&quot;</td><td>1875000</td><td>&quot;2/647 BLAXLAND RD, EASTWOOD&quot;</td><td>2122</td><td>&quot;unit&quot;</td><td>2</td><td>null</td><td>305.0</td><td>&quot;M&quot;</td><td>&quot;2023-09-30&quot;</td><td>&quot;2024-01-08&quot;</td><td>null</td><td>&quot;R&quot;</td><td>&quot;RESIDENCE&quot;</td><td>&quot;2/SP93317&quot;</td></tr><tr><td>4293060</td><td>&quot;2024-01-15&quot;</td><td>&quot;RYDE&quot;</td><td>550000</td><td>&quot;505/39 DEVLIN ST, RYDE&quot;</td><td>2112</td><td>&quot;unit&quot;</td><td>67</td><td>null</td><td>75.0</td><td>&quot;M&quot;</td><td>&quot;2023-11-21&quot;</td><td>&quot;2024-01-11&quot;</td><td>null</td><td>&quot;R&quot;</td><td>&quot;RESIDENCE&quot;</td><td>&quot;67/SP100467&quot;</td></tr><tr><td>4259378</td><td>&quot;2024-01-15&quot;</td><td>&quot;RYDE&quot;</td><td>565000</td><td>&quot;613/27 HALIFAX ST, MACQUARIE P…</td><td>2113</td><td>&quot;unit&quot;</td><td>47</td><td>null</td><td>59.0</td><td>&quot;M&quot;</td><td>&quot;2023-11-24&quot;</td><td>&quot;2024-01-09&quot;</td><td>null</td><td>&quot;R&quot;</td><td>&quot;RESIDENCE&quot;</td><td>&quot;47/SP100396&quot;</td></tr><tr><td>4278002</td><td>&quot;2024-01-15&quot;</td><td>&quot;RYDE&quot;</td><td>905000</td><td>&quot;602/13 HALIFAX ST, MACQUARIE P…</td><td>2113</td><td>&quot;unit&quot;</td><td>26</td><td>null</td><td>102.0</td><td>&quot;M&quot;</td><td>&quot;2023-11-23&quot;</td><td>&quot;2024-01-08&quot;</td><td>null</td><td>&quot;R&quot;</td><td>&quot;RESIDENCE&quot;</td><td>&quot;26/SP100746&quot;</td></tr></tbody></table></div>"
      ],
      "text/plain": [
       "shape: (514, 17)\n",
       "┌────────────┬────────────┬───────────┬───────────┬───┬────────┬───────────┬───────────┬───────────┐\n",
       "│ property_i ┆ download_d ┆ council_n ┆ purchase_ ┆ … ┆ zoning ┆ nature_of ┆ primary_p ┆ legal_des │\n",
       "│ d          ┆ ate        ┆ ame       ┆ price     ┆   ┆ ---    ┆ _property ┆ urpose    ┆ cription  │\n",
       "│ ---        ┆ ---        ┆ ---       ┆ ---       ┆   ┆ str    ┆ ---       ┆ ---       ┆ ---       │\n",
       "│ i64        ┆ str        ┆ str       ┆ i64       ┆   ┆        ┆ str       ┆ str       ┆ str       │\n",
       "╞════════════╪════════════╪═══════════╪═══════════╪═══╪════════╪═══════════╪═══════════╪═══════════╡\n",
       "│ 3391609    ┆ 2024-02-19 ┆ RYDE      ┆ 1375000   ┆ … ┆ null   ┆ R         ┆ RESIDENCE ┆ 3/SP80806 │\n",
       "│ 4170021    ┆ 2024-02-19 ┆ RYDE      ┆ 905000    ┆ … ┆ null   ┆ R         ┆ RESIDENCE ┆ 218/SP980 │\n",
       "│            ┆            ┆           ┆           ┆   ┆        ┆           ┆           ┆ 59        │\n",
       "│ 4170021    ┆ 2024-02-19 ┆ RYDE      ┆ 650000    ┆ … ┆ null   ┆ R         ┆ RESIDENCE ┆ 239/SP980 │\n",
       "│            ┆            ┆           ┆           ┆   ┆        ┆           ┆           ┆ 59        │\n",
       "│ 4165471    ┆ 2024-02-19 ┆ RYDE      ┆ 860000    ┆ … ┆ null   ┆ R         ┆ RESIDENCE ┆ 27/SP9047 │\n",
       "│            ┆            ┆           ┆           ┆   ┆        ┆           ┆           ┆ 9         │\n",
       "│ 868823     ┆ 2024-02-19 ┆ RYDE      ┆ 2590000   ┆ … ┆ R2     ┆ R         ┆ RESIDENCE ┆ 2/543885  │\n",
       "│ …          ┆ …          ┆ …         ┆ …         ┆ … ┆ …      ┆ …         ┆ …         ┆ …         │\n",
       "│ 3852882    ┆ 2024-01-15 ┆ RYDE      ┆ 923000    ┆ … ┆ null   ┆ R         ┆ RESIDENCE ┆ 137/SP906 │\n",
       "│            ┆            ┆           ┆           ┆   ┆        ┆           ┆           ┆ 16        │\n",
       "│ 3956155    ┆ 2024-01-15 ┆ RYDE      ┆ 1875000   ┆ … ┆ null   ┆ R         ┆ RESIDENCE ┆ 2/SP93317 │\n",
       "│ 4293060    ┆ 2024-01-15 ┆ RYDE      ┆ 550000    ┆ … ┆ null   ┆ R         ┆ RESIDENCE ┆ 67/SP1004 │\n",
       "│            ┆            ┆           ┆           ┆   ┆        ┆           ┆           ┆ 67        │\n",
       "│ 4259378    ┆ 2024-01-15 ┆ RYDE      ┆ 565000    ┆ … ┆ null   ┆ R         ┆ RESIDENCE ┆ 47/SP1003 │\n",
       "│            ┆            ┆           ┆           ┆   ┆        ┆           ┆           ┆ 96        │\n",
       "│ 4278002    ┆ 2024-01-15 ┆ RYDE      ┆ 905000    ┆ … ┆ null   ┆ R         ┆ RESIDENCE ┆ 26/SP1007 │\n",
       "│            ┆            ┆           ┆           ┆   ┆        ┆           ┆           ┆ 46        │\n",
       "└────────────┴────────────┴───────────┴───────────┴───┴────────┴───────────┴───────────┴───────────┘"
      ]
     },
     "execution_count": 20,
     "metadata": {},
     "output_type": "execute_result"
    }
   ],
   "source": [
    "ryde_only = df.filter(pl.col('council_name') == 'RYDE')\n",
    "ryde_only_2024 = ryde_only.filter(pl.col(\"settlement_date\").str.contains(\"2024-\"))\n",
    "ryde_only_2024"
   ]
  },
  {
   "cell_type": "code",
   "execution_count": 27,
   "id": "d36daa8a-6c9f-44ce-bc40-641ce05f4891",
   "metadata": {},
   "outputs": [
    {
     "name": "stdout",
     "output_type": "stream",
     "text": [
      "1/514\n",
      "2/514\n",
      "3/514\n",
      "Error geocoding 1/260 VICTORIA RD, GLADESVILLE, 2111, RYDE: HTTPSConnectionPool(host='nominatim.openstreetmap.org', port=443): Max retries exceeded with url: /search?q=1%2F260+VICTORIA+RD%2C+GLADESVILLE%2C+2111%2C+RYDE%2C+Australia&format=json&limit=1 (Caused by ReadTimeoutError(\"HTTPSConnectionPool(host='nominatim.openstreetmap.org', port=443): Read timed out. (read timeout=1)\"))\n",
      "4/514\n",
      "5/514\n",
      "6/514\n",
      "7/514\n",
      "8/514\n",
      "9/514\n",
      "10/514\n",
      "11/514\n",
      "12/514\n",
      "13/514\n",
      "14/514\n",
      "15/514\n",
      "16/514\n",
      "17/514\n",
      "18/514\n",
      "19/514\n",
      "20/514\n",
      "21/514\n",
      "22/514\n",
      "23/514\n",
      "24/514\n",
      "25/514\n",
      "26/514\n",
      "27/514\n"
     ]
    },
    {
     "ename": "KeyboardInterrupt",
     "evalue": "",
     "output_type": "error",
     "traceback": [
      "\u001b[31m---------------------------------------------------------------------------\u001b[39m",
      "\u001b[31mKeyboardInterrupt\u001b[39m                         Traceback (most recent call last)",
      "\u001b[36mCell\u001b[39m\u001b[36m \u001b[39m\u001b[32mIn[27]\u001b[39m\u001b[32m, line 10\u001b[39m\n\u001b[32m      8\u001b[39m \u001b[38;5;28;01mfor\u001b[39;00m row \u001b[38;5;129;01min\u001b[39;00m ryde_only_2024.rows(named=\u001b[38;5;28;01mTrue\u001b[39;00m):\n\u001b[32m      9\u001b[39m     addr = \u001b[33mf\u001b[39m\u001b[33m\"\u001b[39m\u001b[38;5;132;01m{\u001b[39;00mrow[\u001b[33m'\u001b[39m\u001b[33maddress\u001b[39m\u001b[33m'\u001b[39m]\u001b[38;5;132;01m}\u001b[39;00m\u001b[33m, \u001b[39m\u001b[38;5;132;01m{\u001b[39;00mrow[\u001b[33m'\u001b[39m\u001b[33mpost_code\u001b[39m\u001b[33m'\u001b[39m]\u001b[38;5;132;01m}\u001b[39;00m\u001b[33m, \u001b[39m\u001b[38;5;132;01m{\u001b[39;00mrow[\u001b[33m'\u001b[39m\u001b[33mcouncil_name\u001b[39m\u001b[33m'\u001b[39m]\u001b[38;5;132;01m}\u001b[39;00m\u001b[33m\"\u001b[39m\n\u001b[32m---> \u001b[39m\u001b[32m10\u001b[39m     lat_lon = \u001b[43mgeocode_address\u001b[49m\u001b[43m(\u001b[49m\u001b[43maddr\u001b[49m\u001b[43m)\u001b[49m\n\u001b[32m     11\u001b[39m     i += \u001b[32m1\u001b[39m\n\u001b[32m     12\u001b[39m     \u001b[38;5;66;03m# Extract values from the Series\u001b[39;00m\n",
      "\u001b[36mCell\u001b[39m\u001b[36m \u001b[39m\u001b[32mIn[24]\u001b[39m\u001b[32m, line 3\u001b[39m, in \u001b[36mgeocode_address\u001b[39m\u001b[34m(address)\u001b[39m\n\u001b[32m      1\u001b[39m \u001b[38;5;28;01mdef\u001b[39;00m\u001b[38;5;250m \u001b[39m\u001b[34mgeocode_address\u001b[39m(address):\n\u001b[32m      2\u001b[39m     \u001b[38;5;28;01mtry\u001b[39;00m:\n\u001b[32m----> \u001b[39m\u001b[32m3\u001b[39m         location = \u001b[43mgeolocator\u001b[49m\u001b[43m.\u001b[49m\u001b[43mgeocode\u001b[49m\u001b[43m(\u001b[49m\u001b[43maddress\u001b[49m\u001b[43m \u001b[49m\u001b[43m+\u001b[49m\u001b[43m \u001b[49m\u001b[33;43m\"\u001b[39;49m\u001b[33;43m, Australia\u001b[39;49m\u001b[33;43m\"\u001b[39;49m\u001b[43m)\u001b[49m\n\u001b[32m      4\u001b[39m         \u001b[38;5;28;01mif\u001b[39;00m location:\n\u001b[32m      5\u001b[39m             \u001b[38;5;28;01mreturn\u001b[39;00m pl.Series([location.latitude, location.longitude])\n",
      "\u001b[36mFile \u001b[39m\u001b[32m~/code/sydney-gis-hackathon/.venv/lib/python3.13/site-packages/geopy/geocoders/nominatim.py:297\u001b[39m, in \u001b[36mNominatim.geocode\u001b[39m\u001b[34m(self, query, exactly_one, timeout, limit, addressdetails, language, geometry, extratags, country_codes, viewbox, bounded, featuretype, namedetails)\u001b[39m\n\u001b[32m    295\u001b[39m logger.debug(\u001b[33m\"\u001b[39m\u001b[38;5;132;01m%s\u001b[39;00m\u001b[33m.geocode: \u001b[39m\u001b[38;5;132;01m%s\u001b[39;00m\u001b[33m\"\u001b[39m, \u001b[38;5;28mself\u001b[39m.\u001b[34m__class__\u001b[39m.\u001b[34m__name__\u001b[39m, url)\n\u001b[32m    296\u001b[39m callback = partial(\u001b[38;5;28mself\u001b[39m._parse_json, exactly_one=exactly_one)\n\u001b[32m--> \u001b[39m\u001b[32m297\u001b[39m \u001b[38;5;28;01mreturn\u001b[39;00m \u001b[38;5;28;43mself\u001b[39;49m\u001b[43m.\u001b[49m\u001b[43m_call_geocoder\u001b[49m\u001b[43m(\u001b[49m\u001b[43murl\u001b[49m\u001b[43m,\u001b[49m\u001b[43m \u001b[49m\u001b[43mcallback\u001b[49m\u001b[43m,\u001b[49m\u001b[43m \u001b[49m\u001b[43mtimeout\u001b[49m\u001b[43m=\u001b[49m\u001b[43mtimeout\u001b[49m\u001b[43m)\u001b[49m\n",
      "\u001b[36mFile \u001b[39m\u001b[32m~/code/sydney-gis-hackathon/.venv/lib/python3.13/site-packages/geopy/geocoders/base.py:368\u001b[39m, in \u001b[36mGeocoder._call_geocoder\u001b[39m\u001b[34m(self, url, callback, timeout, is_json, headers)\u001b[39m\n\u001b[32m    366\u001b[39m \u001b[38;5;28;01mtry\u001b[39;00m:\n\u001b[32m    367\u001b[39m     \u001b[38;5;28;01mif\u001b[39;00m is_json:\n\u001b[32m--> \u001b[39m\u001b[32m368\u001b[39m         result = \u001b[38;5;28;43mself\u001b[39;49m\u001b[43m.\u001b[49m\u001b[43madapter\u001b[49m\u001b[43m.\u001b[49m\u001b[43mget_json\u001b[49m\u001b[43m(\u001b[49m\u001b[43murl\u001b[49m\u001b[43m,\u001b[49m\u001b[43m \u001b[49m\u001b[43mtimeout\u001b[49m\u001b[43m=\u001b[49m\u001b[43mtimeout\u001b[49m\u001b[43m,\u001b[49m\u001b[43m \u001b[49m\u001b[43mheaders\u001b[49m\u001b[43m=\u001b[49m\u001b[43mreq_headers\u001b[49m\u001b[43m)\u001b[49m\n\u001b[32m    369\u001b[39m     \u001b[38;5;28;01melse\u001b[39;00m:\n\u001b[32m    370\u001b[39m         result = \u001b[38;5;28mself\u001b[39m.adapter.get_text(url, timeout=timeout, headers=req_headers)\n",
      "\u001b[36mFile \u001b[39m\u001b[32m~/code/sydney-gis-hackathon/.venv/lib/python3.13/site-packages/geopy/adapters.py:472\u001b[39m, in \u001b[36mRequestsAdapter.get_json\u001b[39m\u001b[34m(self, url, timeout, headers)\u001b[39m\n\u001b[32m    471\u001b[39m \u001b[38;5;28;01mdef\u001b[39;00m\u001b[38;5;250m \u001b[39m\u001b[34mget_json\u001b[39m(\u001b[38;5;28mself\u001b[39m, url, *, timeout, headers):\n\u001b[32m--> \u001b[39m\u001b[32m472\u001b[39m     resp = \u001b[38;5;28;43mself\u001b[39;49m\u001b[43m.\u001b[49m\u001b[43m_request\u001b[49m\u001b[43m(\u001b[49m\u001b[43murl\u001b[49m\u001b[43m,\u001b[49m\u001b[43m \u001b[49m\u001b[43mtimeout\u001b[49m\u001b[43m=\u001b[49m\u001b[43mtimeout\u001b[49m\u001b[43m,\u001b[49m\u001b[43m \u001b[49m\u001b[43mheaders\u001b[49m\u001b[43m=\u001b[49m\u001b[43mheaders\u001b[49m\u001b[43m)\u001b[49m\n\u001b[32m    473\u001b[39m     \u001b[38;5;28;01mtry\u001b[39;00m:\n\u001b[32m    474\u001b[39m         \u001b[38;5;28;01mreturn\u001b[39;00m resp.json()\n",
      "\u001b[36mFile \u001b[39m\u001b[32m~/code/sydney-gis-hackathon/.venv/lib/python3.13/site-packages/geopy/adapters.py:482\u001b[39m, in \u001b[36mRequestsAdapter._request\u001b[39m\u001b[34m(self, url, timeout, headers)\u001b[39m\n\u001b[32m    480\u001b[39m \u001b[38;5;28;01mdef\u001b[39;00m\u001b[38;5;250m \u001b[39m\u001b[34m_request\u001b[39m(\u001b[38;5;28mself\u001b[39m, url, *, timeout, headers):\n\u001b[32m    481\u001b[39m     \u001b[38;5;28;01mtry\u001b[39;00m:\n\u001b[32m--> \u001b[39m\u001b[32m482\u001b[39m         resp = \u001b[38;5;28;43mself\u001b[39;49m\u001b[43m.\u001b[49m\u001b[43msession\u001b[49m\u001b[43m.\u001b[49m\u001b[43mget\u001b[49m\u001b[43m(\u001b[49m\u001b[43murl\u001b[49m\u001b[43m,\u001b[49m\u001b[43m \u001b[49m\u001b[43mtimeout\u001b[49m\u001b[43m=\u001b[49m\u001b[43mtimeout\u001b[49m\u001b[43m,\u001b[49m\u001b[43m \u001b[49m\u001b[43mheaders\u001b[49m\u001b[43m=\u001b[49m\u001b[43mheaders\u001b[49m\u001b[43m)\u001b[49m\n\u001b[32m    483\u001b[39m     \u001b[38;5;28;01mexcept\u001b[39;00m \u001b[38;5;167;01mException\u001b[39;00m \u001b[38;5;28;01mas\u001b[39;00m error:\n\u001b[32m    484\u001b[39m         message = \u001b[38;5;28mstr\u001b[39m(error)\n",
      "\u001b[36mFile \u001b[39m\u001b[32m~/code/sydney-gis-hackathon/.venv/lib/python3.13/site-packages/requests/sessions.py:602\u001b[39m, in \u001b[36mSession.get\u001b[39m\u001b[34m(self, url, **kwargs)\u001b[39m\n\u001b[32m    594\u001b[39m \u001b[38;5;250m\u001b[39m\u001b[33mr\u001b[39m\u001b[33;03m\"\"\"Sends a GET request. Returns :class:`Response` object.\u001b[39;00m\n\u001b[32m    595\u001b[39m \n\u001b[32m    596\u001b[39m \u001b[33;03m:param url: URL for the new :class:`Request` object.\u001b[39;00m\n\u001b[32m    597\u001b[39m \u001b[33;03m:param \\*\\*kwargs: Optional arguments that ``request`` takes.\u001b[39;00m\n\u001b[32m    598\u001b[39m \u001b[33;03m:rtype: requests.Response\u001b[39;00m\n\u001b[32m    599\u001b[39m \u001b[33;03m\"\"\"\u001b[39;00m\n\u001b[32m    601\u001b[39m kwargs.setdefault(\u001b[33m\"\u001b[39m\u001b[33mallow_redirects\u001b[39m\u001b[33m\"\u001b[39m, \u001b[38;5;28;01mTrue\u001b[39;00m)\n\u001b[32m--> \u001b[39m\u001b[32m602\u001b[39m \u001b[38;5;28;01mreturn\u001b[39;00m \u001b[38;5;28;43mself\u001b[39;49m\u001b[43m.\u001b[49m\u001b[43mrequest\u001b[49m\u001b[43m(\u001b[49m\u001b[33;43m\"\u001b[39;49m\u001b[33;43mGET\u001b[39;49m\u001b[33;43m\"\u001b[39;49m\u001b[43m,\u001b[49m\u001b[43m \u001b[49m\u001b[43murl\u001b[49m\u001b[43m,\u001b[49m\u001b[43m \u001b[49m\u001b[43m*\u001b[49m\u001b[43m*\u001b[49m\u001b[43mkwargs\u001b[49m\u001b[43m)\u001b[49m\n",
      "\u001b[36mFile \u001b[39m\u001b[32m~/code/sydney-gis-hackathon/.venv/lib/python3.13/site-packages/requests/sessions.py:589\u001b[39m, in \u001b[36mSession.request\u001b[39m\u001b[34m(self, method, url, params, data, headers, cookies, files, auth, timeout, allow_redirects, proxies, hooks, stream, verify, cert, json)\u001b[39m\n\u001b[32m    584\u001b[39m send_kwargs = {\n\u001b[32m    585\u001b[39m     \u001b[33m\"\u001b[39m\u001b[33mtimeout\u001b[39m\u001b[33m\"\u001b[39m: timeout,\n\u001b[32m    586\u001b[39m     \u001b[33m\"\u001b[39m\u001b[33mallow_redirects\u001b[39m\u001b[33m\"\u001b[39m: allow_redirects,\n\u001b[32m    587\u001b[39m }\n\u001b[32m    588\u001b[39m send_kwargs.update(settings)\n\u001b[32m--> \u001b[39m\u001b[32m589\u001b[39m resp = \u001b[38;5;28;43mself\u001b[39;49m\u001b[43m.\u001b[49m\u001b[43msend\u001b[49m\u001b[43m(\u001b[49m\u001b[43mprep\u001b[49m\u001b[43m,\u001b[49m\u001b[43m \u001b[49m\u001b[43m*\u001b[49m\u001b[43m*\u001b[49m\u001b[43msend_kwargs\u001b[49m\u001b[43m)\u001b[49m\n\u001b[32m    591\u001b[39m \u001b[38;5;28;01mreturn\u001b[39;00m resp\n",
      "\u001b[36mFile \u001b[39m\u001b[32m~/code/sydney-gis-hackathon/.venv/lib/python3.13/site-packages/requests/sessions.py:703\u001b[39m, in \u001b[36mSession.send\u001b[39m\u001b[34m(self, request, **kwargs)\u001b[39m\n\u001b[32m    700\u001b[39m start = preferred_clock()\n\u001b[32m    702\u001b[39m \u001b[38;5;66;03m# Send the request\u001b[39;00m\n\u001b[32m--> \u001b[39m\u001b[32m703\u001b[39m r = \u001b[43madapter\u001b[49m\u001b[43m.\u001b[49m\u001b[43msend\u001b[49m\u001b[43m(\u001b[49m\u001b[43mrequest\u001b[49m\u001b[43m,\u001b[49m\u001b[43m \u001b[49m\u001b[43m*\u001b[49m\u001b[43m*\u001b[49m\u001b[43mkwargs\u001b[49m\u001b[43m)\u001b[49m\n\u001b[32m    705\u001b[39m \u001b[38;5;66;03m# Total elapsed time of the request (approximately)\u001b[39;00m\n\u001b[32m    706\u001b[39m elapsed = preferred_clock() - start\n",
      "\u001b[36mFile \u001b[39m\u001b[32m~/code/sydney-gis-hackathon/.venv/lib/python3.13/site-packages/requests/adapters.py:667\u001b[39m, in \u001b[36mHTTPAdapter.send\u001b[39m\u001b[34m(self, request, stream, timeout, verify, cert, proxies)\u001b[39m\n\u001b[32m    664\u001b[39m     timeout = TimeoutSauce(connect=timeout, read=timeout)\n\u001b[32m    666\u001b[39m \u001b[38;5;28;01mtry\u001b[39;00m:\n\u001b[32m--> \u001b[39m\u001b[32m667\u001b[39m     resp = \u001b[43mconn\u001b[49m\u001b[43m.\u001b[49m\u001b[43murlopen\u001b[49m\u001b[43m(\u001b[49m\n\u001b[32m    668\u001b[39m \u001b[43m        \u001b[49m\u001b[43mmethod\u001b[49m\u001b[43m=\u001b[49m\u001b[43mrequest\u001b[49m\u001b[43m.\u001b[49m\u001b[43mmethod\u001b[49m\u001b[43m,\u001b[49m\n\u001b[32m    669\u001b[39m \u001b[43m        \u001b[49m\u001b[43murl\u001b[49m\u001b[43m=\u001b[49m\u001b[43murl\u001b[49m\u001b[43m,\u001b[49m\n\u001b[32m    670\u001b[39m \u001b[43m        \u001b[49m\u001b[43mbody\u001b[49m\u001b[43m=\u001b[49m\u001b[43mrequest\u001b[49m\u001b[43m.\u001b[49m\u001b[43mbody\u001b[49m\u001b[43m,\u001b[49m\n\u001b[32m    671\u001b[39m \u001b[43m        \u001b[49m\u001b[43mheaders\u001b[49m\u001b[43m=\u001b[49m\u001b[43mrequest\u001b[49m\u001b[43m.\u001b[49m\u001b[43mheaders\u001b[49m\u001b[43m,\u001b[49m\n\u001b[32m    672\u001b[39m \u001b[43m        \u001b[49m\u001b[43mredirect\u001b[49m\u001b[43m=\u001b[49m\u001b[38;5;28;43;01mFalse\u001b[39;49;00m\u001b[43m,\u001b[49m\n\u001b[32m    673\u001b[39m \u001b[43m        \u001b[49m\u001b[43massert_same_host\u001b[49m\u001b[43m=\u001b[49m\u001b[38;5;28;43;01mFalse\u001b[39;49;00m\u001b[43m,\u001b[49m\n\u001b[32m    674\u001b[39m \u001b[43m        \u001b[49m\u001b[43mpreload_content\u001b[49m\u001b[43m=\u001b[49m\u001b[38;5;28;43;01mFalse\u001b[39;49;00m\u001b[43m,\u001b[49m\n\u001b[32m    675\u001b[39m \u001b[43m        \u001b[49m\u001b[43mdecode_content\u001b[49m\u001b[43m=\u001b[49m\u001b[38;5;28;43;01mFalse\u001b[39;49;00m\u001b[43m,\u001b[49m\n\u001b[32m    676\u001b[39m \u001b[43m        \u001b[49m\u001b[43mretries\u001b[49m\u001b[43m=\u001b[49m\u001b[38;5;28;43mself\u001b[39;49m\u001b[43m.\u001b[49m\u001b[43mmax_retries\u001b[49m\u001b[43m,\u001b[49m\n\u001b[32m    677\u001b[39m \u001b[43m        \u001b[49m\u001b[43mtimeout\u001b[49m\u001b[43m=\u001b[49m\u001b[43mtimeout\u001b[49m\u001b[43m,\u001b[49m\n\u001b[32m    678\u001b[39m \u001b[43m        \u001b[49m\u001b[43mchunked\u001b[49m\u001b[43m=\u001b[49m\u001b[43mchunked\u001b[49m\u001b[43m,\u001b[49m\n\u001b[32m    679\u001b[39m \u001b[43m    \u001b[49m\u001b[43m)\u001b[49m\n\u001b[32m    681\u001b[39m \u001b[38;5;28;01mexcept\u001b[39;00m (ProtocolError, \u001b[38;5;167;01mOSError\u001b[39;00m) \u001b[38;5;28;01mas\u001b[39;00m err:\n\u001b[32m    682\u001b[39m     \u001b[38;5;28;01mraise\u001b[39;00m \u001b[38;5;167;01mConnectionError\u001b[39;00m(err, request=request)\n",
      "\u001b[36mFile \u001b[39m\u001b[32m~/code/sydney-gis-hackathon/.venv/lib/python3.13/site-packages/urllib3/connectionpool.py:787\u001b[39m, in \u001b[36mHTTPConnectionPool.urlopen\u001b[39m\u001b[34m(self, method, url, body, headers, retries, redirect, assert_same_host, timeout, pool_timeout, release_conn, chunked, body_pos, preload_content, decode_content, **response_kw)\u001b[39m\n\u001b[32m    784\u001b[39m response_conn = conn \u001b[38;5;28;01mif\u001b[39;00m \u001b[38;5;129;01mnot\u001b[39;00m release_conn \u001b[38;5;28;01melse\u001b[39;00m \u001b[38;5;28;01mNone\u001b[39;00m\n\u001b[32m    786\u001b[39m \u001b[38;5;66;03m# Make the request on the HTTPConnection object\u001b[39;00m\n\u001b[32m--> \u001b[39m\u001b[32m787\u001b[39m response = \u001b[38;5;28;43mself\u001b[39;49m\u001b[43m.\u001b[49m\u001b[43m_make_request\u001b[49m\u001b[43m(\u001b[49m\n\u001b[32m    788\u001b[39m \u001b[43m    \u001b[49m\u001b[43mconn\u001b[49m\u001b[43m,\u001b[49m\n\u001b[32m    789\u001b[39m \u001b[43m    \u001b[49m\u001b[43mmethod\u001b[49m\u001b[43m,\u001b[49m\n\u001b[32m    790\u001b[39m \u001b[43m    \u001b[49m\u001b[43murl\u001b[49m\u001b[43m,\u001b[49m\n\u001b[32m    791\u001b[39m \u001b[43m    \u001b[49m\u001b[43mtimeout\u001b[49m\u001b[43m=\u001b[49m\u001b[43mtimeout_obj\u001b[49m\u001b[43m,\u001b[49m\n\u001b[32m    792\u001b[39m \u001b[43m    \u001b[49m\u001b[43mbody\u001b[49m\u001b[43m=\u001b[49m\u001b[43mbody\u001b[49m\u001b[43m,\u001b[49m\n\u001b[32m    793\u001b[39m \u001b[43m    \u001b[49m\u001b[43mheaders\u001b[49m\u001b[43m=\u001b[49m\u001b[43mheaders\u001b[49m\u001b[43m,\u001b[49m\n\u001b[32m    794\u001b[39m \u001b[43m    \u001b[49m\u001b[43mchunked\u001b[49m\u001b[43m=\u001b[49m\u001b[43mchunked\u001b[49m\u001b[43m,\u001b[49m\n\u001b[32m    795\u001b[39m \u001b[43m    \u001b[49m\u001b[43mretries\u001b[49m\u001b[43m=\u001b[49m\u001b[43mretries\u001b[49m\u001b[43m,\u001b[49m\n\u001b[32m    796\u001b[39m \u001b[43m    \u001b[49m\u001b[43mresponse_conn\u001b[49m\u001b[43m=\u001b[49m\u001b[43mresponse_conn\u001b[49m\u001b[43m,\u001b[49m\n\u001b[32m    797\u001b[39m \u001b[43m    \u001b[49m\u001b[43mpreload_content\u001b[49m\u001b[43m=\u001b[49m\u001b[43mpreload_content\u001b[49m\u001b[43m,\u001b[49m\n\u001b[32m    798\u001b[39m \u001b[43m    \u001b[49m\u001b[43mdecode_content\u001b[49m\u001b[43m=\u001b[49m\u001b[43mdecode_content\u001b[49m\u001b[43m,\u001b[49m\n\u001b[32m    799\u001b[39m \u001b[43m    \u001b[49m\u001b[43m*\u001b[49m\u001b[43m*\u001b[49m\u001b[43mresponse_kw\u001b[49m\u001b[43m,\u001b[49m\n\u001b[32m    800\u001b[39m \u001b[43m\u001b[49m\u001b[43m)\u001b[49m\n\u001b[32m    802\u001b[39m \u001b[38;5;66;03m# Everything went great!\u001b[39;00m\n\u001b[32m    803\u001b[39m clean_exit = \u001b[38;5;28;01mTrue\u001b[39;00m\n",
      "\u001b[36mFile \u001b[39m\u001b[32m~/code/sydney-gis-hackathon/.venv/lib/python3.13/site-packages/urllib3/connectionpool.py:534\u001b[39m, in \u001b[36mHTTPConnectionPool._make_request\u001b[39m\u001b[34m(self, conn, method, url, body, headers, retries, timeout, chunked, response_conn, preload_content, decode_content, enforce_content_length)\u001b[39m\n\u001b[32m    532\u001b[39m \u001b[38;5;66;03m# Receive the response from the server\u001b[39;00m\n\u001b[32m    533\u001b[39m \u001b[38;5;28;01mtry\u001b[39;00m:\n\u001b[32m--> \u001b[39m\u001b[32m534\u001b[39m     response = \u001b[43mconn\u001b[49m\u001b[43m.\u001b[49m\u001b[43mgetresponse\u001b[49m\u001b[43m(\u001b[49m\u001b[43m)\u001b[49m\n\u001b[32m    535\u001b[39m \u001b[38;5;28;01mexcept\u001b[39;00m (BaseSSLError, \u001b[38;5;167;01mOSError\u001b[39;00m) \u001b[38;5;28;01mas\u001b[39;00m e:\n\u001b[32m    536\u001b[39m     \u001b[38;5;28mself\u001b[39m._raise_timeout(err=e, url=url, timeout_value=read_timeout)\n",
      "\u001b[36mFile \u001b[39m\u001b[32m~/code/sydney-gis-hackathon/.venv/lib/python3.13/site-packages/urllib3/connection.py:516\u001b[39m, in \u001b[36mHTTPConnection.getresponse\u001b[39m\u001b[34m(self)\u001b[39m\n\u001b[32m    513\u001b[39m _shutdown = \u001b[38;5;28mgetattr\u001b[39m(\u001b[38;5;28mself\u001b[39m.sock, \u001b[33m\"\u001b[39m\u001b[33mshutdown\u001b[39m\u001b[33m\"\u001b[39m, \u001b[38;5;28;01mNone\u001b[39;00m)\n\u001b[32m    515\u001b[39m \u001b[38;5;66;03m# Get the response from http.client.HTTPConnection\u001b[39;00m\n\u001b[32m--> \u001b[39m\u001b[32m516\u001b[39m httplib_response = \u001b[38;5;28;43msuper\u001b[39;49m\u001b[43m(\u001b[49m\u001b[43m)\u001b[49m\u001b[43m.\u001b[49m\u001b[43mgetresponse\u001b[49m\u001b[43m(\u001b[49m\u001b[43m)\u001b[49m\n\u001b[32m    518\u001b[39m \u001b[38;5;28;01mtry\u001b[39;00m:\n\u001b[32m    519\u001b[39m     assert_header_parsing(httplib_response.msg)\n",
      "\u001b[36mFile \u001b[39m\u001b[32m~/.local/share/uv/python/cpython-3.13.1-macos-aarch64-none/lib/python3.13/http/client.py:1428\u001b[39m, in \u001b[36mHTTPConnection.getresponse\u001b[39m\u001b[34m(self)\u001b[39m\n\u001b[32m   1426\u001b[39m \u001b[38;5;28;01mtry\u001b[39;00m:\n\u001b[32m   1427\u001b[39m     \u001b[38;5;28;01mtry\u001b[39;00m:\n\u001b[32m-> \u001b[39m\u001b[32m1428\u001b[39m         \u001b[43mresponse\u001b[49m\u001b[43m.\u001b[49m\u001b[43mbegin\u001b[49m\u001b[43m(\u001b[49m\u001b[43m)\u001b[49m\n\u001b[32m   1429\u001b[39m     \u001b[38;5;28;01mexcept\u001b[39;00m \u001b[38;5;167;01mConnectionError\u001b[39;00m:\n\u001b[32m   1430\u001b[39m         \u001b[38;5;28mself\u001b[39m.close()\n",
      "\u001b[36mFile \u001b[39m\u001b[32m~/.local/share/uv/python/cpython-3.13.1-macos-aarch64-none/lib/python3.13/http/client.py:331\u001b[39m, in \u001b[36mHTTPResponse.begin\u001b[39m\u001b[34m(self)\u001b[39m\n\u001b[32m    329\u001b[39m \u001b[38;5;66;03m# read until we get a non-100 response\u001b[39;00m\n\u001b[32m    330\u001b[39m \u001b[38;5;28;01mwhile\u001b[39;00m \u001b[38;5;28;01mTrue\u001b[39;00m:\n\u001b[32m--> \u001b[39m\u001b[32m331\u001b[39m     version, status, reason = \u001b[38;5;28;43mself\u001b[39;49m\u001b[43m.\u001b[49m\u001b[43m_read_status\u001b[49m\u001b[43m(\u001b[49m\u001b[43m)\u001b[49m\n\u001b[32m    332\u001b[39m     \u001b[38;5;28;01mif\u001b[39;00m status != CONTINUE:\n\u001b[32m    333\u001b[39m         \u001b[38;5;28;01mbreak\u001b[39;00m\n",
      "\u001b[36mFile \u001b[39m\u001b[32m~/.local/share/uv/python/cpython-3.13.1-macos-aarch64-none/lib/python3.13/http/client.py:292\u001b[39m, in \u001b[36mHTTPResponse._read_status\u001b[39m\u001b[34m(self)\u001b[39m\n\u001b[32m    291\u001b[39m \u001b[38;5;28;01mdef\u001b[39;00m\u001b[38;5;250m \u001b[39m\u001b[34m_read_status\u001b[39m(\u001b[38;5;28mself\u001b[39m):\n\u001b[32m--> \u001b[39m\u001b[32m292\u001b[39m     line = \u001b[38;5;28mstr\u001b[39m(\u001b[38;5;28;43mself\u001b[39;49m\u001b[43m.\u001b[49m\u001b[43mfp\u001b[49m\u001b[43m.\u001b[49m\u001b[43mreadline\u001b[49m\u001b[43m(\u001b[49m\u001b[43m_MAXLINE\u001b[49m\u001b[43m \u001b[49m\u001b[43m+\u001b[49m\u001b[43m \u001b[49m\u001b[32;43m1\u001b[39;49m\u001b[43m)\u001b[49m, \u001b[33m\"\u001b[39m\u001b[33miso-8859-1\u001b[39m\u001b[33m\"\u001b[39m)\n\u001b[32m    293\u001b[39m     \u001b[38;5;28;01mif\u001b[39;00m \u001b[38;5;28mlen\u001b[39m(line) > _MAXLINE:\n\u001b[32m    294\u001b[39m         \u001b[38;5;28;01mraise\u001b[39;00m LineTooLong(\u001b[33m\"\u001b[39m\u001b[33mstatus line\u001b[39m\u001b[33m\"\u001b[39m)\n",
      "\u001b[36mFile \u001b[39m\u001b[32m~/.local/share/uv/python/cpython-3.13.1-macos-aarch64-none/lib/python3.13/socket.py:719\u001b[39m, in \u001b[36mSocketIO.readinto\u001b[39m\u001b[34m(self, b)\u001b[39m\n\u001b[32m    717\u001b[39m     \u001b[38;5;28;01mraise\u001b[39;00m \u001b[38;5;167;01mOSError\u001b[39;00m(\u001b[33m\"\u001b[39m\u001b[33mcannot read from timed out object\u001b[39m\u001b[33m\"\u001b[39m)\n\u001b[32m    718\u001b[39m \u001b[38;5;28;01mtry\u001b[39;00m:\n\u001b[32m--> \u001b[39m\u001b[32m719\u001b[39m     \u001b[38;5;28;01mreturn\u001b[39;00m \u001b[38;5;28;43mself\u001b[39;49m\u001b[43m.\u001b[49m\u001b[43m_sock\u001b[49m\u001b[43m.\u001b[49m\u001b[43mrecv_into\u001b[49m\u001b[43m(\u001b[49m\u001b[43mb\u001b[49m\u001b[43m)\u001b[49m\n\u001b[32m    720\u001b[39m \u001b[38;5;28;01mexcept\u001b[39;00m timeout:\n\u001b[32m    721\u001b[39m     \u001b[38;5;28mself\u001b[39m._timeout_occurred = \u001b[38;5;28;01mTrue\u001b[39;00m\n",
      "\u001b[36mFile \u001b[39m\u001b[32m~/.local/share/uv/python/cpython-3.13.1-macos-aarch64-none/lib/python3.13/ssl.py:1304\u001b[39m, in \u001b[36mSSLSocket.recv_into\u001b[39m\u001b[34m(self, buffer, nbytes, flags)\u001b[39m\n\u001b[32m   1300\u001b[39m     \u001b[38;5;28;01mif\u001b[39;00m flags != \u001b[32m0\u001b[39m:\n\u001b[32m   1301\u001b[39m         \u001b[38;5;28;01mraise\u001b[39;00m \u001b[38;5;167;01mValueError\u001b[39;00m(\n\u001b[32m   1302\u001b[39m           \u001b[33m\"\u001b[39m\u001b[33mnon-zero flags not allowed in calls to recv_into() on \u001b[39m\u001b[38;5;132;01m%s\u001b[39;00m\u001b[33m\"\u001b[39m %\n\u001b[32m   1303\u001b[39m           \u001b[38;5;28mself\u001b[39m.\u001b[34m__class__\u001b[39m)\n\u001b[32m-> \u001b[39m\u001b[32m1304\u001b[39m     \u001b[38;5;28;01mreturn\u001b[39;00m \u001b[38;5;28;43mself\u001b[39;49m\u001b[43m.\u001b[49m\u001b[43mread\u001b[49m\u001b[43m(\u001b[49m\u001b[43mnbytes\u001b[49m\u001b[43m,\u001b[49m\u001b[43m \u001b[49m\u001b[43mbuffer\u001b[49m\u001b[43m)\u001b[49m\n\u001b[32m   1305\u001b[39m \u001b[38;5;28;01melse\u001b[39;00m:\n\u001b[32m   1306\u001b[39m     \u001b[38;5;28;01mreturn\u001b[39;00m \u001b[38;5;28msuper\u001b[39m().recv_into(buffer, nbytes, flags)\n",
      "\u001b[36mFile \u001b[39m\u001b[32m~/.local/share/uv/python/cpython-3.13.1-macos-aarch64-none/lib/python3.13/ssl.py:1138\u001b[39m, in \u001b[36mSSLSocket.read\u001b[39m\u001b[34m(self, len, buffer)\u001b[39m\n\u001b[32m   1136\u001b[39m \u001b[38;5;28;01mtry\u001b[39;00m:\n\u001b[32m   1137\u001b[39m     \u001b[38;5;28;01mif\u001b[39;00m buffer \u001b[38;5;129;01mis\u001b[39;00m \u001b[38;5;129;01mnot\u001b[39;00m \u001b[38;5;28;01mNone\u001b[39;00m:\n\u001b[32m-> \u001b[39m\u001b[32m1138\u001b[39m         \u001b[38;5;28;01mreturn\u001b[39;00m \u001b[38;5;28;43mself\u001b[39;49m\u001b[43m.\u001b[49m\u001b[43m_sslobj\u001b[49m\u001b[43m.\u001b[49m\u001b[43mread\u001b[49m\u001b[43m(\u001b[49m\u001b[38;5;28;43mlen\u001b[39;49m\u001b[43m,\u001b[49m\u001b[43m \u001b[49m\u001b[43mbuffer\u001b[49m\u001b[43m)\u001b[49m\n\u001b[32m   1139\u001b[39m     \u001b[38;5;28;01melse\u001b[39;00m:\n\u001b[32m   1140\u001b[39m         \u001b[38;5;28;01mreturn\u001b[39;00m \u001b[38;5;28mself\u001b[39m._sslobj.read(\u001b[38;5;28mlen\u001b[39m)\n",
      "\u001b[31mKeyboardInterrupt\u001b[39m: "
     ]
    }
   ],
   "source": [
    "# Create new columns for latitude and longitude\n",
    "lat_values = []\n",
    "lon_values = []\n",
    "\n",
    "# Loop through each row and extract geocoding information\n",
    "total = len(ryde_only_2024)\n",
    "i = 0\n",
    "for row in ryde_only_2024.rows(named=True):\n",
    "    addr = f\"{row['address']}, {row['post_code']}, {row['council_name']}\"\n",
    "    lat_lon = geocode_address(addr)\n",
    "    i += 1\n",
    "    # Extract values from the Series\n",
    "    lat_values.append(lat_lon[0])\n",
    "    lon_values.append(lat_lon[1])\n",
    "    print(f\"{i}/{total}\")\n",
    "\n",
    "# Add the new columns to the DataFrame\n",
    "ryde_only_2024 = ryde_only_2024.with_columns([\n",
    "    pl.Series(\"lat\", lat_values),\n",
    "    pl.Series(\"lon\", lon_values)\n",
    "])"
   ]
  },
  {
   "cell_type": "code",
   "execution_count": 23,
   "id": "85c79869-5a38-4049-ac66-8b054488c342",
   "metadata": {},
   "outputs": [],
   "source": [
    "ryde_only_2024.write_csv(\"ryde_transactions_2024.csv\")"
   ]
  },
  {
   "cell_type": "code",
   "execution_count": 30,
   "id": "93f986b0-5cd5-4536-983d-4b51ca122d24",
   "metadata": {},
   "outputs": [
    {
     "data": {
      "text/html": [
       "<div><style>\n",
       ".dataframe > thead > tr,\n",
       ".dataframe > tbody > tr {\n",
       "  text-align: right;\n",
       "  white-space: pre-wrap;\n",
       "}\n",
       "</style>\n",
       "<small>shape: (2_645_468,)</small><table border=\"1\" class=\"dataframe\"><thead><tr><th>address</th></tr><tr><td>str</td></tr></thead><tbody><tr><td>&quot;403/18 LILYDALE ST, MARRICKVIL…</td></tr><tr><td>&quot;42 ST CLAIR ST, BONNELLS BAY&quot;</td></tr><tr><td>&quot;4 MINDONA ST, LEUMEAH&quot;</td></tr><tr><td>&quot;6 VINE ST, CHISHOLM&quot;</td></tr><tr><td>&quot;66 CATALINA WAY, NORTH RICHMON…</td></tr><tr><td>&hellip;</td></tr><tr><td>&quot;44 DILLWYNIA DR, GLENMORE PARK&quot;</td></tr><tr><td>&quot;1103/26 A BELMONT ST, SUTHERLA…</td></tr><tr><td>&quot;54 HIGH ST, GRETA&quot;</td></tr><tr><td>&quot;260 TUGGERAWONG RD, TUGGERAWON…</td></tr><tr><td>&quot;14 LODDON CCT, ALBION PARK&quot;</td></tr></tbody></table></div>"
      ],
      "text/plain": [
       "shape: (2_645_468,)\n",
       "Series: 'address' [str]\n",
       "[\n",
       "\t\"403/18 LILYDALE ST, MARRICKVIL…\n",
       "\t\"42 ST CLAIR ST, BONNELLS BAY\"\n",
       "\t\"4 MINDONA ST, LEUMEAH\"\n",
       "\t\"6 VINE ST, CHISHOLM\"\n",
       "\t\"66 CATALINA WAY, NORTH RICHMON…\n",
       "\t…\n",
       "\t\"44 DILLWYNIA DR, GLENMORE PARK\"\n",
       "\t\"1103/26 A BELMONT ST, SUTHERLA…\n",
       "\t\"54 HIGH ST, GRETA\"\n",
       "\t\"260 TUGGERAWONG RD, TUGGERAWON…\n",
       "\t\"14 LODDON CCT, ALBION PARK\"\n",
       "]"
      ]
     },
     "execution_count": 30,
     "metadata": {},
     "output_type": "execute_result"
    }
   ],
   "source": [
    "df['address'].unique()"
   ]
  },
  {
   "cell_type": "code",
   "execution_count": null,
   "id": "d19769b1-4be8-4e83-acb5-2816c62530c6",
   "metadata": {},
   "outputs": [],
   "source": []
  }
 ],
 "metadata": {
  "kernelspec": {
   "display_name": "Python 3 (ipykernel)",
   "language": "python",
   "name": "python3"
  },
  "language_info": {
   "codemirror_mode": {
    "name": "ipython",
    "version": 3
   },
   "file_extension": ".py",
   "mimetype": "text/x-python",
   "name": "python",
   "nbconvert_exporter": "python",
   "pygments_lexer": "ipython3",
   "version": "3.13.1"
  }
 },
 "nbformat": 4,
 "nbformat_minor": 5
}
